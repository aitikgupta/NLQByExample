{
 "nbformat": 4,
 "nbformat_minor": 2,
 "metadata": {
  "language_info": {
   "name": "python",
   "codemirror_mode": {
    "name": "ipython",
    "version": 3
   },
   "version": "3.7.6-final"
  },
  "orig_nbformat": 2,
  "file_extension": ".py",
  "mimetype": "text/x-python",
  "name": "python",
  "npconvert_exporter": "python",
  "pygments_lexer": "ipython3",
  "version": 3,
  "kernelspec": {
   "name": "python37664bitminiconda3conda69165b6812aa4d2495a51938f297f978",
   "display_name": "Python 3.7.6 64-bit ('miniconda3': conda)"
  }
 },
 "cells": [
  {
   "cell_type": "code",
   "execution_count": 2,
   "metadata": {},
   "outputs": [],
   "source": [
    "class DataBase():\n",
    "    '''\n",
    "    Class for Databases\n",
    "    '''\n",
    "    pass\n",
    "\n",
    "class SQL(DataBase):\n",
    "    def __init__(self, nlquery, db):\n",
    "        super().__init__(db)\n",
    "        self.nlquery = nlquery\n",
    "        self.db = db\n",
    "    def __len__(self):\n",
    "        return len(self.nlquery)\n",
    "class ME(SQL):\n",
    "    def __init__(self, nlquery):\n",
    "        super().__init__(nlquery)\n",
    "        self.element = None\n",
    "    def search_model_entity(self, nlquery):\n",
    "        '''\n",
    "        Returns the number of ME if there is any, otherwise returns None\n",
    "        '''\n",
    "        pass\n",
    "    def get_element(self, nlquery):\n",
    "        # me = self.search_model_entity(nlquery)\n",
    "        # if(me):\n",
    "        #     return self.get_entity(me, nlquery,self.db)\n",
    "\n",
    "        # return element else return None\n",
    "        pass\n",
    "\n",
    "        # SemSig = []\n",
    "        # ParamSig = {}"
   ]
  },
  {
   "cell_type": "code",
   "execution_count": 144,
   "metadata": {},
   "outputs": [],
   "source": [
    "SemSig = [\"ME1\",\"PVE1\",\"ME2\",\"PVE1\",\"IVE1\"]\n",
    "ParamSig = {\n",
    "    \"ME1\" : {\n",
    "        \"Element\" : \"ListedSecurity\",\n",
    "        \"Property\" : \"RandomProperty\" \n",
    "    },\n",
    "    \"IVE1\" : {\n",
    "        \"Property\" : \"Corporation.hasLegalName\",\n",
    "        \"Value\" : ['ALPHABET HOLDING COMPANY, INC.', 'ALPHABET INC']\n",
    "    },\n",
    "    \"ME2\" : {\n",
    "        \"Element\" : \"MoneytaryAmount.hasAmount\"\n",
    "    },\n",
    "    \"PVE1\" : {\n",
    "        \"Operand1\" : \"ME2\",\n",
    "        \"Op\" : \">\",\n",
    "        \"Operand2\" : \"IVE1\"\n",
    "    },\n",
    "    \"Fetch\" : {\n",
    "        \"FETCH\" : \"FETCH ALL\"\n",
    "    }\n",
    "}"
   ]
  },
  {
   "cell_type": "code",
   "execution_count": 145,
   "metadata": {},
   "outputs": [
    {
     "output_type": "execute_result",
     "data": {
      "text/plain": "['ME1', 'PVE1', 'ME2', 'PVE1', 'IVE1']"
     },
     "metadata": {},
     "execution_count": 145
    }
   ],
   "source": [
    "SemSig"
   ]
  },
  {
   "cell_type": "code",
   "execution_count": 146,
   "metadata": {},
   "outputs": [
    {
     "output_type": "execute_result",
     "data": {
      "text/plain": "{'ME1': {'Element': 'ListedSecurity', 'Property': 'RandomProperty'},\n 'IVE1': {'Property': 'Corporation.hasLegalName',\n  'Value': ['ALPHABET HOLDING COMPANY, INC.', 'ALPHABET INC']},\n 'ME2': {'Element': 'MoneytaryAmount.hasAmount'},\n 'PVE1': {'Operand1': 'ME2', 'Op': '>', 'Operand2': 'IVE1'},\n 'Fetch': {'FETCH': 'FETCH ALL'}}"
     },
     "metadata": {},
     "execution_count": 146
    }
   ],
   "source": [
    "ParamSig"
   ]
  },
  {
   "cell_type": "code",
   "execution_count": 149,
   "metadata": {},
   "outputs": [
    {
     "output_type": "execute_result",
     "data": {
      "text/plain": "{'SELECT': {'ME1': {'Element': 'ListedSecurity', 'Property': 'RandomProperty'},\n  'ME2': {'Element': 'MoneytaryAmount.hasAmount'}},\n 'FROM': {'ME1': {'Element': 'ListedSecurity', 'Property': 'RandomProperty'},\n  'ME2': {'Element': 'MoneytaryAmount.hasAmount'}},\n 'WHERE': {'PVE1': {'Operand1': 'ME2', 'Op': '>', 'Operand2': 'IVE1'}},\n 'SUBQUERIES': [<__main__.SQLSig at 0x7fc28568d550>],\n 'FETCH': {'FETCH': 'FETCH ALL'}}"
     },
     "metadata": {},
     "execution_count": 149
    }
   ],
   "source": [
    "sig1.dict"
   ]
  },
  {
   "cell_type": "code",
   "execution_count": null,
   "metadata": {},
   "outputs": [],
   "source": []
  },
  {
   "cell_type": "code",
   "execution_count": 182,
   "metadata": {},
   "outputs": [],
   "source": [
    "import copy\n",
    "class SQLSig():\n",
    "    def __init__(self, SemSig, ParamSig):\n",
    "        self.SemSig = SemSig\n",
    "        self.ParamSig = ParamSig\n",
    "        self.subqueries = []\n",
    "        self.dict = self.return_dict()\n",
    "        if self.count_subqueries() > 0:\n",
    "            for sub in range(1, self.count_subqueries()+1):\n",
    "                SemSigUpd, ParamSigUpd = self.update_sig(sub)\n",
    "                self.subqueries.append(SQLSig(SemSigUpd, ParamSigUpd))\n",
    "    @staticmethod\n",
    "    def dict_to_sig(dictionary):\n",
    "        SemSig = []\n",
    "        ParamSig = []\n",
    "        for k, v in dictionary.items():\n",
    "            if k in [\"SUBQUERIES\", \"FETCH\"]:\n",
    "                continue\n",
    "            for key, value in v.items():\n",
    "                if key in SemSig:\n",
    "                    continue\n",
    "                SemSig.append(key)\n",
    "                ParamSig.append(value)\n",
    "        print(SemSig, ParamSig)\n",
    "            \n",
    "    def update_sig(self, idx):\n",
    "        PVEParams = self.get_parameters(self.get_pve())\n",
    "        wanted = PVEParams[\"PVE\"+str(idx)]\n",
    "        op1 = wanted[\"Operand1\"]\n",
    "        op2 = wanted[\"Operand2\"]\n",
    "        op = wanted[\"Op\"]\n",
    "        check = None\n",
    "        if op1[:3] == \"IVE\":\n",
    "            val_op1 = 2\n",
    "            v = 1\n",
    "        else:\n",
    "            val_op1 = -2\n",
    "        if op2[:3] == \"IVE\":\n",
    "            val_op2 = 2\n",
    "            v=2\n",
    "        else:\n",
    "            val_op2 = -2\n",
    "        if op == \">\":\n",
    "            val_op = 1\n",
    "        else:\n",
    "            val_op = -1\n",
    "        fin = val_op1*val_op*val_op2\n",
    "        \n",
    "        if fin == 4:\n",
    "            agg = \"MAX\"\n",
    "        elif fin == -4:\n",
    "            agg = \"MIN\"\n",
    "        \n",
    "        # x = self.return_dict()\n",
    "        SELECT =  copy.deepcopy(self.dict[\"SELECT\"])\n",
    "        FROM = copy.deepcopy(self.dict[\"FROM\"])\n",
    "        # \"INNER JOIN\" : self.get_parameters(self.get_ive()),\n",
    "        WHERE = copy.deepcopy(self.dict[\"WHERE\"])\n",
    "        SUBQUERIES = copy.deepcopy(self.dict[\"SUBQUERIES\"])\n",
    "        FETCH = copy.deepcopy(self.dict[\"FETCH\"])\n",
    "        for me in self.get_entity():    \n",
    "            if \".\" in SELECT[me][\"Element\"]:\n",
    "                kisko = me\n",
    "        SELECT[kisko][\"Agg\"] = agg\n",
    "        # del WHERE[\"PVE\"+str(idx)]\n",
    "        WHERE = {key:val for key, val in WHERE.items() if key not in [f\"PVE+{str(idx)}\"]}\n",
    "        # if v == 2:\n",
    "        params = copy.deepcopy(self.get_parameters(self.get_ive()))[\"IVE\"+str(idx)]\n",
    "        # print(params)\n",
    "        WHERE[\"PVE\"+str(idx)][\"Operand1\"] = params[\"Value\"]\n",
    "        WHERE[\"PVE\"+str(idx)][\"Op\"] = \"IN\"        \n",
    "        WHERE[\"PVE\"+str(idx)][\"Operand2\"] = params[\"Property\"]\n",
    "        \n",
    "\n",
    "        # x = self.get_parameters(self.get_pve())[\"PVE\"+str(idx)]\n",
    "\n",
    "# Change ME to what we require subquery me (using its properties) [Choose which me to aggregate using its properties]\n",
    "# Change IVE from PVE to something, so that subqueries dont go too many [Either this or change WHERE to IVE intead of PVE]\n",
    "# Fetch all\n",
    "# Where change to IVE instead of PVE\n",
    "# Update ME\n",
    "\n",
    "        # if v == 1:\n",
    "        #     new_dict = {key:val for key, val in x.items() if key not in ['Operand1', 'Op']}\n",
    "\n",
    "        #     # non_sub_op = op2\n",
    "        # elif v == 2:\n",
    "        #     new_dict = {key:val for key, val in x.items() if key not in ['Operand2', 'Op']}\n",
    "        #     # x = self.get_parameters(self.get_pve())[\"PVE\"+str(idx)]\n",
    "        #     # non_sub_op = op1\n",
    "        # #[non_sub_op]\n",
    "        # print(\"x = \", x, \"new_dict = \", new_dict)\n",
    "        # if fin == -4:\n",
    "        #     x[\"Agg\"] = \"MIN\"\n",
    "        # else:\n",
    "        #     x[\"Agg\"] = \"MAX\"\n",
    "        # SemSig = [x, v]\n",
    "        # ParamSig = {}\n",
    "        # ParamSig = {\n",
    "        #     x,\n",
    "        #     v\n",
    "        # }\n",
    "\n",
    "\n",
    "        # print(SemSig, ParamSig)\n",
    "        return [], {}\n",
    "\n",
    "    def get_entity(self):\n",
    "        ME = []\n",
    "        for sem in self.SemSig:\n",
    "            if sem[:2] == \"ME\":\n",
    "                ME.append(sem)\n",
    "        return ME\n",
    "    def get_pve(self):\n",
    "        PVE = []\n",
    "        for sem in self.SemSig:\n",
    "            if sem[:3] == \"PVE\":\n",
    "                PVE.append(sem)\n",
    "        return PVE\n",
    "    def get_ive(self):\n",
    "        IVE = []\n",
    "        for sem in self.SemSig:\n",
    "            if sem[:3] == \"IVE\":\n",
    "                IVE.append(sem)\n",
    "        return IVE\n",
    "\n",
    "    def get_parameters(self, mode):\n",
    "        Props = {}\n",
    "        for term in mode:\n",
    "            if term in self.ParamSig.keys():\n",
    "                Props[term] = ParamSig[term]\n",
    "        return Props\n",
    "        \n",
    "    def count_subqueries(self):\n",
    "        IVE = get_ive(self.SemSig)\n",
    "        return len(IVE)\n",
    "    \n",
    "    def get_fetch(self):\n",
    "        try:\n",
    "            FETCH = self.ParamSig[\"Fetch\"]\n",
    "        except:\n",
    "            FETCH = \"FETCH ALL\"\n",
    "        return FETCH\n",
    "\n",
    "    def return_dict(self):\n",
    "        SigDict = {\n",
    "            \"SELECT\" : self.get_parameters(self.get_entity()),\n",
    "            \"FROM\" : self.get_parameters(self.get_entity()),\n",
    "            # \"INNER JOIN\" : self.get_parameters(self.get_ive()),\n",
    "            \"WHERE\" : self.get_parameters(self.get_pve()),\n",
    "            \"SUBQUERIES\" : self.subqueries,\n",
    "            \"FETCH\" : self.get_fetch()\n",
    "        }\n",
    "        return SigDict\n",
    "    def __str__(self):\n",
    "        print(self.return_dict())\n",
    "sig1 = SQLSig(SemSig, ParamSig)"
   ]
  },
  {
   "cell_type": "code",
   "execution_count": 183,
   "metadata": {},
   "outputs": [
    {
     "output_type": "execute_result",
     "data": {
      "text/plain": "{'SELECT': {'ME1': {'Element': 'ListedSecurity', 'Property': 'RandomProperty'},\n  'ME2': {'Element': 'MoneytaryAmount.hasAmount'}},\n 'FROM': {'ME1': {'Element': 'ListedSecurity', 'Property': 'RandomProperty'},\n  'ME2': {'Element': 'MoneytaryAmount.hasAmount'}},\n 'WHERE': {'PVE1': {'Operand1': 'ME2', 'Op': '>', 'Operand2': 'IVE1'}},\n 'SUBQUERIES': [<__main__.SQLSig at 0x7fc2853ef390>],\n 'FETCH': {'FETCH': 'FETCH ALL'}}"
     },
     "metadata": {},
     "execution_count": 183
    }
   ],
   "source": [
    "sig1.dict"
   ]
  },
  {
   "cell_type": "code",
   "execution_count": 184,
   "metadata": {},
   "outputs": [
    {
     "output_type": "execute_result",
     "data": {
      "text/plain": "{'SELECT': {}, 'FROM': {}, 'WHERE': {}, 'SUBQUERIES': [], 'FETCH': 'FETCH ALL'}"
     },
     "metadata": {},
     "execution_count": 184
    }
   ],
   "source": [
    "sig1.return_dict()[\"SUBQUERIES\"][0].return_dict()"
   ]
  },
  {
   "cell_type": "code",
   "execution_count": 185,
   "metadata": {},
   "outputs": [
    {
     "output_type": "stream",
     "name": "stdout",
     "text": "['ME1', 'ME2', 'PVE1'] [{'Element': 'ListedSecurity', 'Property': 'RandomProperty'}, {'Element': 'MoneytaryAmount.hasAmount'}, {'Operand1': 'ME2', 'Op': '>', 'Operand2': 'IVE1'}]\n"
    }
   ],
   "source": [
    "sig1.dict_to_sig(sig1.dict)"
   ]
  },
  {
   "cell_type": "code",
   "execution_count": null,
   "metadata": {},
   "outputs": [],
   "source": []
  },
  {
   "cell_type": "code",
   "execution_count": null,
   "metadata": {},
   "outputs": [],
   "source": []
  },
  {
   "cell_type": "code",
   "execution_count": null,
   "metadata": {},
   "outputs": [],
   "source": []
  },
  {
   "cell_type": "code",
   "execution_count": null,
   "metadata": {},
   "outputs": [],
   "source": []
  },
  {
   "cell_type": "code",
   "execution_count": null,
   "metadata": {},
   "outputs": [],
   "source": []
  },
  {
   "cell_type": "code",
   "execution_count": null,
   "metadata": {},
   "outputs": [],
   "source": []
  },
  {
   "cell_type": "code",
   "execution_count": 18,
   "metadata": {},
   "outputs": [],
   "source": [
    "def get_entity(SemSig):\n",
    "    ME = []\n",
    "    for sem in SemSig:\n",
    "        if sem[:2] == \"ME\":\n",
    "            ME.append(sem)\n",
    "    return ME\n",
    "def get_pve(SemSig):\n",
    "    PVE = []\n",
    "    for sem in SemSig:\n",
    "        if sem[:3] == \"PVE\":\n",
    "            PVE.append(sem)\n",
    "    return PVE\n",
    "def get_ive(SemSig):\n",
    "    IVE = []\n",
    "    for sem in SemSig:\n",
    "        if sem[:3] == \"IVE\":\n",
    "            IVE.append(sem)\n",
    "    return IVE\n",
    "\n",
    "def check_sanity(obj):\n",
    "    if len(obj) < 1:\n",
    "        return None\n",
    "    return obj\n",
    "\n",
    "def get_parameters(term, ParamSig):\n",
    "    Props = {}\n",
    "    for term in term:\n",
    "        if term in ParamSig.keys():\n",
    "            Props[term] = ParamSig[term]\n",
    "    return Props\n",
    "    \n",
    "def count_subqueries(SemSig):\n",
    "    ive = get_ive(SemSig)\n",
    "    return len(ive)\n",
    "\n",
    "SigDict = {\n",
    "    \"SELECT\" : get_parameters(get_entity(SemSig), ParamSig),\n",
    "    \"FROM\" : get_parameters(get_entity(SemSig), ParamSig),\n",
    "    \"INNER JOIN\" : get_parameters(get_ive(SemSig), ParamSig),\n",
    "    \"WHERE\" : get_parameters(get_pve(SemSig), ParamSig),\n",
    "    \"SUBQUERIES\" : count_subqueries(SemSig)\n",
    "}"
   ]
  }
 ]
}